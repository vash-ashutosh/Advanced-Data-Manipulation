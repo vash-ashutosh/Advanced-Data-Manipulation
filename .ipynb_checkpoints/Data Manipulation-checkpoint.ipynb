{
 "cells": [
  {
   "cell_type": "code",
   "execution_count": 1,
   "id": "4a4430e9",
   "metadata": {},
   "outputs": [
    {
     "data": {
      "text/plain": [
       "'Weather Analysis using data from Helsinki\\n\\nJupyter Notebook\\n\\nAuthor: Ashutosh\\nEmail: ashutoshvashisht99@gmail.com\\nGithub: vash-ashutosh\\n'"
      ]
     },
     "execution_count": 1,
     "metadata": {},
     "output_type": "execute_result"
    }
   ],
   "source": [
    "\"\"\"Weather Analysis using data from Helsinki\n",
    "\n",
    "Jupyter Notebook\n",
    "\n",
    "Author: Ashutosh\n",
    "Email: ashutoshvashisht99@gmail.com\n",
    "Github: vash-ashutosh\n",
    "\"\"\""
   ]
  },
  {
   "cell_type": "code",
   "execution_count": null,
   "id": "b07c18f7",
   "metadata": {},
   "outputs": [],
   "source": [
    "import pandas as pd\n"
   ]
  },
  {
   "cell_type": "code",
   "execution_count": null,
   "id": "a9713a3b",
   "metadata": {},
   "outputs": [],
   "source": []
  }
 ],
 "metadata": {
  "kernelspec": {
   "display_name": "Python 3 (ipykernel)",
   "language": "python",
   "name": "python3"
  },
  "language_info": {
   "codemirror_mode": {
    "name": "ipython",
    "version": 3
   },
   "file_extension": ".py",
   "mimetype": "text/x-python",
   "name": "python",
   "nbconvert_exporter": "python",
   "pygments_lexer": "ipython3",
   "version": "3.8.10"
  }
 },
 "nbformat": 4,
 "nbformat_minor": 5
}
